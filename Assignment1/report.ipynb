{
 "cells": [
  {
   "cell_type": "code",
   "execution_count": null,
   "metadata": {
    "vscode": {
     "languageId": "plaintext"
    }
   },
   "outputs": [],
   "source": [
    "Sources\n",
    "\n",
    "Blocking\n",
    "https://gist.github.com/metallurgix/8ee5262ed818730b5cc0\n",
    "\n",
    "George Hotz\n",
    "(yt)\n",
    "\n",
    "Miduem Article\n",
    "https://vaibhaw-vipul.medium.com/matrix-multiplication-optimizing-the-code-from-6-hours-to-1-sec-70889d33dcfa"
   ]
  },
  {
   "cell_type": "markdown",
   "metadata": {
    "vscode": {
     "languageId": "plaintext"
    }
   },
   "source": [
    "\n",
    "\n",
    "\n",
    "The setup below is done on Macbook Pro M3\n",
    "| Description                              | Matrix Size | GFLOP/s\n",
    "|------------------------------------------|-------------|----------------\n",
    "| Python without numpy                     | 256         | 0.0092         \n",
    "| C++ without transposing the second matrix   | 1024           | 1.6891       \n",
    "| C++ with transposing the second matrix| 1024           | 2.1991      \n",
    "| Python with numpy (single thread)                        | 1024        | 25.5003         \n",
    "| C++ with transposing and blocking (-O3, blockSize=4) | 2048           | 28.9517      \n",
    "| Python with numpy                        | 2048        | 95.0181          \n",
    "| C++ with MultiThreading, transposing and blocking (-O3, blockSize=4) | 8192           | 171.3636   \n",
    "\n"
   ]
  },
  {
   "cell_type": "markdown",
   "metadata": {
    "vscode": {
     "languageId": "plaintext"
    }
   },
   "source": [
    "### How to run (MAC)\n",
    "\n",
    "for the parallel solution with blocks\n",
    "`clang++ parallel_b_matrix_mult.cpp -O3 -march=native -Xpreprocessor -fopenmp -I/opt/homebrew/include -L/opt/homebrew/lib -lomp -o compiled/parallel_b_matrix_mult && ./compiled/parallel_b_matrix_mult`"
   ]
  },
  {
   "cell_type": "markdown",
   "metadata": {},
   "source": []
  }
 ],
 "metadata": {
  "language_info": {
   "name": "python"
  }
 },
 "nbformat": 4,
 "nbformat_minor": 2
}

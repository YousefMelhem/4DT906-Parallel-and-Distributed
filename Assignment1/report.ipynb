{
 "cells": [
  {
   "cell_type": "markdown",
   "metadata": {
    "vscode": {
     "languageId": "plaintext"
    }
   },
   "source": [
    "Sources\n",
    "\n",
    "Blocking\n",
    "https://gist.github.com/metallurgix/8ee5262ed818730b5cc0\n",
    "\n",
    "George Hotz\n",
    "(yt)\n",
    "\n",
    "Miduem Article\n",
    "https://vaibhaw-vipul.medium.com/matrix-multiplication-optimizing-the-code-from-6-hours-to-1-sec-70889d33dcfa"
   ]
  },
  {
   "cell_type": "markdown",
   "metadata": {
    "vscode": {
     "languageId": "plaintext"
    }
   },
   "source": [
    "\n",
    "\n",
    "\n",
    "The setup below is done on Macbook Pro M3 (Khaled setup)\n",
    "| Description                              | Matrix Size | FLOP/s\n",
    "|------------------------------------------|-------------|----------------\n",
    "| Python without numpy                     | 256         | 0.0092 GFLOPS \n",
    "| C++ without transposing the second matrix   | 1024           | 1.6891 GFLOPS\n",
    "| C++ with transposing the second matrix| 1024           | 2.1991 GFLOPS \n",
    "| Python with numpy (single thread)                        | 1024        | 25.5003 GFLOPS\n",
    "| C++ with transposing and blocking (-O3, blockSize=4) | 2048           | 28.9517 GFLOPS\n",
    "| Python with numpy                        | 2048        | 95.0181 GFLOPS\n",
    "| C++ with MultiThreading, transposing and blocking (-O3, blockSize=4) | 8192           | 171.3636 GFLOPS\n",
    "| C++ with MultiThreading, transposing and blocking (-O3, blockSize=4, -ffast-math) | 8192           | 209.5 GFLOPS\n",
    "| C++ with **prefetching** and **Arm NEON vectors**, MultiThreading, transposing and blocking (-O3, blockSize=8, -ffast-math) | 16384           | 712.849 **TFLOPS**\n",
    "| C++ with **prefetching** and **Arm NEON vectors**, MultiThreading, transposing and blocking (-O3, blockSize=16, -ffast-math) | 32768           | 3.772 **PFLOPS**\n",
    "| C++ with **prefetching** and **Arm NEON vectors**, MultiThreading, transposing and blocking (-O3, blockSize=32, -ffast-math) | 32768           | 5.685 **PFLOPS** (5685 TFLOPS)\n",
    "\n",
    "(blocksize over 32 make yields less FLOPs)\n",
    "(-O3 is faster than -O2 for me)"
   ]
  },
  {
   "cell_type": "markdown",
   "metadata": {
    "vscode": {
     "languageId": "plaintext"
    }
   },
   "source": [
    "### How did we go from ~200 GFLOPS to ~5.5 PFLOPS?\n",
    "\n",
    "\n",
    "# prefethcing\n",
    "The major improvement was prefetching the block data into the L1 memory.\n",
    "\n",
    "```cpp\n",
    "void prefetch_block(float* addr) {\n",
    "    asm volatile(\"prfm pldl1keep, [%0]\" : : \"r\" (addr));\n",
    "````\n",
    "\n",
    "`prfm` stands for \"PreFetch Memory\"\n",
    "`pldl1keep` means:\n",
    "\n",
    "`pld` = PreLoad Data\n",
    "`l1` = into L1 cache\n",
    "`keep` = try to keep it in cache\n",
    "\n",
    "\n",
    "`[%0]` refers to the first argument in the constraints list (: : \"r\" (addr)) (?)\n",
    "\n",
    "`\"r\" (addr)` tells the compiler to put the addr value into a general-purpose register\n",
    "\n",
    "`volatile` tells the compiler not to optimize away or reorder this instruction\n",
    "\n",
    "We use the prefertch to prefetch the next block into memory,\n",
    "\n",
    "```cpp\n",
    "...\n",
    "    for(bi=0; bi<N; bi+=blockSize)\n",
    "        for(bj=0; bj<N; bj+=blockSize)\n",
    "            prefetch_block(&A[bi + blockSize][0]);\n",
    "            prefetch_block(&B_trans[bj + blockSize][0]);\n",
    "...\n",
    "```\n",
    "\n",
    "While processing the current block at `A[bi]`, it prefetches data from `A[bi + blockSize]`, this is also done on the `B_trans`\n",
    "\n",
    "This shoul help us with cache misses by loading the data that is actually needed.\n",
    "\n",
    "# neon vectors\n",
    "\n",
    "Docs: \n"
   ]
  },
  {
   "cell_type": "markdown",
   "metadata": {
    "vscode": {
     "languageId": "plaintext"
    }
   },
   "source": [
    "### How to run the fasters (MAC)\n",
    "The flags that imporove the flops\n",
    "\n",
    "`-O3 (gives better than -O2)`\n",
    "\n",
    "`-march=native`\n",
    "\n",
    "`-ffast-math`\n",
    "\n",
    "\n",
    "for the parallel solution with blocks\n",
    "`clang++ prefetch.cpp -O3 -march=native -ffast-math -Xpreprocessor -fopenmp -I/opt/homebrew/include -L/opt/homebrew/lib -lomp -o compiled/prefetch && ./compiled/prefetch`"
   ]
  },
  {
   "cell_type": "markdown",
   "metadata": {},
   "source": []
  }
 ],
 "metadata": {
  "language_info": {
   "name": "python"
  }
 },
 "nbformat": 4,
 "nbformat_minor": 2
}

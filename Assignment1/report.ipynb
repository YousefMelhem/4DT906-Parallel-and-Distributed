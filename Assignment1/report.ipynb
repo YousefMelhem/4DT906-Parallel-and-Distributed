{
 "cells": [
  {
   "cell_type": "markdown",
   "metadata": {
    "vscode": {
     "languageId": "plaintext"
    }
   },
   "source": [
    "| Description                              | Matrix Size | FLOP (GFLOP/s) \n",
    "|------------------------------------------|-------------|----------------\n",
    "| Python without numpy                     | 256         | 0.0092         \n",
    "| C++ with transposing the second matrix   | 1024           | 2.1891       \n",
    "| C++ without transposing the second matrix| 1024           | 2.1991      \n",
    "| Python with numpy                        | 1024        | 95.0181          \n",
    "\n",
    "\n",
    "Why is C so much slower, and why does transposing not help?\n",
    "\n"
   ]
  }
 ],
 "metadata": {
  "language_info": {
   "name": "python"
  }
 },
 "nbformat": 4,
 "nbformat_minor": 2
}

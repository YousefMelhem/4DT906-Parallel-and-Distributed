{
 "cells": [
  {
   "cell_type": "markdown",
   "metadata": {
    "vscode": {
     "languageId": "plaintext"
    }
   },
   "source": [
    "| Description                              | Matrix Size | FLOP (GFLOP/s) \n",
    "|------------------------------------------|-------------|----------------\n",
    "| Python without numpy                     | 256         | 0.0092         \n",
    "| C++ without transposing the second matrix| 1024           | 1.8691      \n",
    "| C++ with transposing the second matrix   | 1024           | 1.9591       \n",
    "| Python with numpy                        | 1024        | 95.0181          \n",
    "\n",
    "\n",
    "\n"
   ]
  }
 ],
 "metadata": {
  "language_info": {
   "name": "python"
  }
 },
 "nbformat": 4,
 "nbformat_minor": 2
}

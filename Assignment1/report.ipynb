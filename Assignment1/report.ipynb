{
 "cells": [
  {
   "cell_type": "markdown",
   "metadata": {
    "vscode": {
     "languageId": "plaintext"
    }
   },
   "source": [
    "### Sources\n",
    "\n",
    "Blocking\n",
    "- https://gist.github.com/metallurgix/8ee5262ed818730b5cc0\n",
    "\n",
    "\n",
    "\n",
    "George Hotz\n",
    "- (add yt video link)\n",
    "\n",
    "\n",
    "Miduem Article\n",
    "- https://vaibhaw-vipul.medium.com/matrix-multiplication-optimizing-the-code-from-6-hours-to-1-sec-70889d33dcfa\n",
    "\n",
    "\n",
    "Neon Arm Instructions\n",
    "- https://developer.arm.com/architectures/instruction-sets/intrinsics/#f:@navigationhierarchiessimdisa=[Neon]&f:@navigationhierarchiesreturnbasetype=[float]&f:@navigationhierarchieselementbitsize=[32]&q=vld1\n",
    "\n",
    "\n",
    "Apple Accelerate\n",
    "- https://developer.apple.com/documentation/accelerate/vdsp-library\n",
    "\n",
    "\n",
    "AMX\n",
    "- https://zhen8838.github.io/2024/04/23/mac-amx_en/\n",
    "\n",
    "\n",
    "Loop unrolling\n",
    "- https://en.wikipedia.org/wiki/Loop_unrolling#:~:text=Loop%20unrolling%2C%20also%20known%20as,or%20by%20an%20optimizing%20compiler.\n",
    "\n"
   ]
  },
  {
   "cell_type": "markdown",
   "metadata": {
    "vscode": {
     "languageId": "plaintext"
    }
   },
   "source": [
    "\n",
    "PTB = Parallel + Transpose + Blocking\n",
    "\n",
    "(blocksize over 16 make yields less FLOPs)\n",
    "(-O3 is faster than -O2 for me)"
   ]
  },
  {
   "cell_type": "markdown",
   "metadata": {
    "vscode": {
     "languageId": "plaintext"
    }
   },
   "source": [
    "\n",
    "Run the best code\n",
    "`clang++ PTB.cpp -O3 -march=native -ffast-math -Xpreprocessor -fopenmp -I/opt/homebrew/include -L/opt/homebrew/lib -lomp -o compiled/PTB && ./compiled/PTB`\n",
    "\n",
    "\n",
    "Accelerate\n",
    "\n",
    "`clang++ -O3 -DACCELRATE_NEW_LAPACK -DACCELERATE_LAPACK_ILP64 accelerate.cpp -framework Accelerate -o ./compiled/accelerate && ./compiled/accelerate`\n"
   ]
  },
  {
   "cell_type": "markdown",
   "metadata": {
    "vscode": {
     "languageId": "plaintext"
    }
   },
   "source": [
    "### Questions\n",
    "\n",
    "Blocking helps with cache, but why?\n",
    "\n",
    "#pragma omp parallel for private(bj, bk, i, j, k) shared(A, B_trans, C) - what does this do *exacly*? why is bi not included?"
   ]
  },
  {
   "cell_type": "code",
   "execution_count": null,
   "metadata": {
    "vscode": {
     "languageId": "plaintext"
    }
   },
   "outputs": [],
   "source": []
  }
 ],
 "metadata": {
  "language_info": {
   "name": "python"
  }
 },
 "nbformat": 4,
 "nbformat_minor": 2
}

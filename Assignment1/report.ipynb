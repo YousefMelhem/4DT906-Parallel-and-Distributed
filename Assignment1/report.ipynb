{
 "cells": [
  {
   "cell_type": "markdown",
   "metadata": {
    "vscode": {
     "languageId": "plaintext"
    }
   },
   "source": [
    "\n",
    "\n",
    "\n",
    "The setup below is done on Macbook Pro M3\n",
    "| Description                              | Matrix Size | GFLOP/s\n",
    "|------------------------------------------|-------------|----------------\n",
    "| Python without numpy                     | 256         | 0.0092         \n",
    "| C++ with transposing the second matrix   | 1024           | 1.6891       \n",
    "| C++ without transposing the second matrix| 1024           | 2.1991      \n",
    "| Python with numpy (single thread)                        | 4096        | 25.5003         \n",
    "| Python with numpy                        | 1024        | 95.0181          \n",
    "\n",
    "\n",
    "Why is C so much slower\n",
    "\n"
   ]
  },
  {
   "cell_type": "markdown",
   "metadata": {},
   "source": []
  }
 ],
 "metadata": {
  "language_info": {
   "name": "python"
  }
 },
 "nbformat": 4,
 "nbformat_minor": 2
}

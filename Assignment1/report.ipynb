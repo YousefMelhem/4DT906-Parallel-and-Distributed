{
 "cells": [
  {
   "cell_type": "markdown",
   "metadata": {
    "vscode": {
     "languageId": "plaintext"
    }
   },
   "source": [
    "Sources\n",
    "\n",
    "Blocking\n",
    "\n",
    "https://gist.github.com/metallurgix/8ee5262ed818730b5cc0\n",
    "\n",
    "George Hotz\n",
    "\n",
    "(yt)\n",
    "\n",
    "Miduem Article\n",
    "\n",
    "https://vaibhaw-vipul.medium.com/matrix-multiplication-optimizing-the-code-from-6-hours-to-1-sec-70889d33dcfa\n",
    "\n",
    "Apple Accelerate\n",
    "\n",
    "https://developer.apple.com/documentation/accelerate/vdsp-library\n",
    "\n"
   ]
  },
  {
   "cell_type": "markdown",
   "metadata": {
    "vscode": {
     "languageId": "plaintext"
    }
   },
   "source": [
    "\n",
    "\n",
    "The setup below is done on Macbook Pro M3 (Khaled setup)\n",
    "| Description                              | Matrix Size | FLOP/s\n",
    "|------------------------------------------|-------------|----------------\n",
    "| Python without numpy                     | 256         | 0.0092 GFLOPS \n",
    "| C++ without transposing the second matrix   | 1024           | 1.6891 GFLOPS\n",
    "| C++ with transposing the second matrix| 1024           | 2.1991 GFLOPS \n",
    "| Python with numpy (single thread)                        | 1024        | 25.5003 GFLOPS\n",
    "| C++ with transposing and blocking (-O3, blockSize=4) | 2048           | 28.9517 GFLOPS\n",
    "| Python with numpy                        | 2048        | 95.0181 GFLOPS\n",
    "| C++ (Blocking, Transpose, Threading)                        | 2048        | 195.8009 GFLOPS\n",
    "| C++ Accelerate                        | 8192        | 1379.5669 GFLOPS\n",
    "\n",
    "\n",
    "(blocksize over 16 make yields less FLOPs)\n",
    "(-O3 is faster than -O2 for me)"
   ]
  },
  {
   "cell_type": "code",
   "execution_count": null,
   "metadata": {
    "vscode": {
     "languageId": "plaintext"
    }
   },
   "outputs": [],
   "source": [
    "clang++ PTBNeon.cpp -O3 -march=native -ffast-math -Xpreprocessor -fopenmp -I/opt/homebrew/include -L/opt/homebrew/lib -lomp -o compiled/PTBNeon && ./compiled/PTBNeon\n",
    "\n",
    "\n",
    "Accelerate\n",
    "\n",
    "clang++ -O3 -DACCELERATE_NEW_LAPACK -DACCELERATE_LAPACK_ILP64 accelerate_example.cpp -framework Accelerate -o ./compiled/accelerate_example && ./compiled/accelerate_example\n"
   ]
  }
 ],
 "metadata": {
  "language_info": {
   "name": "python"
  }
 },
 "nbformat": 4,
 "nbformat_minor": 2
}

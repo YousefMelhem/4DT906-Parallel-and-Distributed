{
 "cells": [
  {
   "cell_type": "markdown",
   "metadata": {
    "vscode": {
     "languageId": "plaintext"
    }
   },
   "source": [
    "### Sources\n",
    "\n",
    "Blocking\n",
    "- https://gist.github.com/metallurgix/8ee5262ed818730b5cc0\n",
    "\n",
    "\n",
    "\n",
    "George Hotz\n",
    "- (add yt video link)\n",
    "\n",
    "\n",
    "Miduem Article\n",
    "- https://vaibhaw-vipul.medium.com/matrix-multiplication-optimizing-the-code-from-6-hours-to-1-sec-70889d33dcfa\n",
    "\n",
    "\n",
    "Neon Arm Instructions\n",
    "- https://developer.arm.com/architectures/instruction-sets/intrinsics/#f:@navigationhierarchiessimdisa=[Neon]&f:@navigationhierarchiesreturnbasetype=[float]&f:@navigationhierarchieselementbitsize=[32]&q=vld1\n",
    "\n",
    "\n",
    "Apple Accelerate\n",
    "- https://developer.apple.com/documentation/accelerate/vdsp-library\n",
    "\n",
    "\n",
    "AMX\n",
    "- https://zhen8838.github.io/2024/04/23/mac-amx_en/\n",
    "\n",
    "\n",
    "Loop unrolling\n",
    "- https://en.wikipedia.org/wiki/Loop_unrolling#:~:text=Loop%20unrolling%2C%20also%20known%20as,or%20by%20an%20optimizing%20compiler.\n",
    "\n"
   ]
  },
  {
   "cell_type": "markdown",
   "metadata": {
    "vscode": {
     "languageId": "plaintext"
    }
   },
   "source": [
    "\n",
    "| Description                              | Matrix Size | FLOP/s\n",
    "|------------------------------------------|-------------|----------------\n",
    "| Python without numpy                     | 256         | 0.0092 GFLOPS \n",
    "| st_np_matmul.py                          | 512         | 15.374713 GFLOPS\n",
    "| st_PTB64.cpp                             | 1024        | 17.178770 GFLOPS\n",
    "| np_matmul.py                             | 1024         | 52.210830 GFLOPS\n",
    "| matrix_mult.cpp                          | 1024        | 34.398815 GFLOPS\n",
    "| st_PTB1D.cpp                             | 1024        | 31.425362 GFLOPS\n",
    "| st_PTB16.cpp                               | 1024        | 40.412571 GFLOPS\n",
    "| PTB1D.cpp                                | 1024        | 127.062523 GFLOPS\n",
    "| PTB4.cpp                                 | 1024        | 101.024773 GFLOPS\n",
    "| PTB8.cpp                                 | 1024        | 63.231953 GFLOPS\n",
    "| PTB16.cpp                                | 1024        | 194.324829 GFLOPS\n",
    "| PTB32.cpp                                | 1024        | 94.407333 GFLOPS\n",
    "| accelerate.cpp                           | 8192        | 1326.189209 GFLOPS\n",
    "\n",
    "\n",
    "(blocksize over 16 make yields less FLOPs)\n",
    "(-O3 is faster than -O2 for me)"
   ]
  },
  {
   "cell_type": "markdown",
   "metadata": {
    "vscode": {
     "languageId": "plaintext"
    }
   },
   "source": [
    "\n",
    "Run the best code\n",
    "`clang++ PTB.cpp -O3 -march=native -ffast-math -Xpreprocessor -fopenmp -I/opt/homebrew/include -L/opt/homebrew/lib -lomp -o compiled/PTB && ./compiled/PTB`\n",
    "\n",
    "\n",
    "Accelerate\n",
    "\n",
    "`clang++ -O3 -DACCELRATE_NEW_LAPACK -DACCELERATE_LAPACK_ILP64 accelerate.cpp -framework Accelerate -o ./compiled/accelerate && ./compiled/accelerate`\n"
   ]
  },
  {
   "cell_type": "markdown",
   "metadata": {
    "vscode": {
     "languageId": "plaintext"
    }
   },
   "source": [
    "### Questions\n",
    "\n",
    "Blocking helps with cache, but why?\n",
    "\n",
    "#pragma omp parallel for private(bj, bk, i, j, k) shared(A, B_trans, C) - what does this do *exacly*? why is bi not included?"
   ]
  },
  {
   "cell_type": "code",
   "execution_count": null,
   "metadata": {
    "vscode": {
     "languageId": "plaintext"
    }
   },
   "outputs": [],
   "source": []
  }
 ],
 "metadata": {
  "language_info": {
   "name": "python"
  }
 },
 "nbformat": 4,
 "nbformat_minor": 2
}
